{
 "cells": [
  {
   "cell_type": "markdown",
   "metadata": {},
   "source": [
    "# workshop preparation\n",
    "\n",
    "## Task\n",
    "1. set up two notebooks for data preparation for long-term and short-term analysis\n",
    "\n",
    "\n",
    "\n",
    "\n",
    "\n",
    "## Does Reticulate work with Aaron's package?\n"
   ]
  },
  {
   "cell_type": "code",
   "execution_count": 10,
   "metadata": {},
   "outputs": [],
   "source": [
    "library(reticulate)\n"
   ]
  },
  {
   "cell_type": "code",
   "execution_count": 2,
   "metadata": {},
   "outputs": [
    {
     "data": {
      "text/html": [
       "<strong>python:</strong> '/opt/conda/bin/python'"
      ],
      "text/latex": [
       "\\textbf{python:} '/opt/conda/bin/python'"
      ],
      "text/markdown": [
       "**python:** '/opt/conda/bin/python'"
      ],
      "text/plain": [
       "                 python \n",
       "\"/opt/conda/bin/python\" "
      ]
     },
     "metadata": {},
     "output_type": "display_data"
    }
   ],
   "source": [
    "Sys.which('python')"
   ]
  },
  {
   "cell_type": "markdown",
   "metadata": {},
   "source": [
    "# Option 1: call python script from R\n",
    "This will capture output as a R list. Access objects through `XX$XX`"
   ]
  },
  {
   "cell_type": "code",
   "execution_count": null,
   "metadata": {},
   "outputs": [],
   "source": [
    "result = py_run_file(\"EDA-PhosPerch.py\")\n"
   ]
  },
  {
   "cell_type": "code",
   "execution_count": null,
   "metadata": {},
   "outputs": [],
   "source": [
    "result$df_perch"
   ]
  },
  {
   "cell_type": "markdown",
   "metadata": {},
   "source": [
    "# Option 2: pass R data frame to python \n",
    "This will capture output as a R list. Access objects through `XX$XX`"
   ]
  },
  {
   "cell_type": "code",
   "execution_count": 11,
   "metadata": {},
   "outputs": [],
   "source": [
    "source_python(\"cpt/dp.py\")\n",
    "source_python(\"cpt/data.py\")\n",
    "source_python(\"cpt/cost.py\")\n",
    "source_python(\"cpt/functions.py\")\n",
    "source_python(\"cpt/penalty.py\")\n",
    "source_python(\"cpt/df_to_ts.py\")\n"
   ]
  },
  {
   "cell_type": "code",
   "execution_count": 12,
   "metadata": {},
   "outputs": [
    {
     "data": {
      "text/plain": [
       "<function NORMAL_MEANVAR at 0x7f8c9357a268>"
      ]
     },
     "metadata": {},
     "output_type": "display_data"
    }
   ],
   "source": [
    "penfun = PENFUN_BIC\n",
    "NORMAL_MEANVAR"
   ]
  },
  {
   "cell_type": "code",
   "execution_count": 13,
   "metadata": {},
   "outputs": [
    {
     "data": {
      "text/plain": [
       "[[1]]\n",
       "<function NORMAL_MEANVAR at 0x7f8c9357a268>\n",
       "\n",
       "[[2]]\n",
       "<function NORMAL_MEANVAR at 0x7f8c9357a268>\n"
      ]
     },
     "metadata": {},
     "output_type": "display_data"
    }
   ],
   "source": [
    "list(NORMAL_MEANVAR,NORMAL_MEANVAR)"
   ]
  },
  {
   "cell_type": "code",
   "execution_count": null,
   "metadata": {},
   "outputs": [],
   "source": [
    "DF_TO_TS"
   ]
  },
  {
   "cell_type": "code",
   "execution_count": 26,
   "metadata": {},
   "outputs": [],
   "source": [
    "#from cpt.dp import CPT_DSF, DP_allpenfast\n",
    "#from cpt.cost import NORMAL_MEANVAR\n",
    "#from cpt.penalty import PENFUN_BIC\n",
    "\n",
    "#df_perch = data.frame(DATETIME = 1:10, VALUE=1:10)\n",
    "#df_phos = data.frame(DATETIME = 1:100, VALUE=1:100)\n",
    "df_perch = ts(1:72, start=c(2009, 1), end=c(2014, 12), frequency=12)\n",
    "df_phos = ts(1:72, start=c(2009, 1), end=c(2014, 12), frequency=12)\n",
    "ts = list(df_perch, df_phos)\n",
    "names = c('Perch', 'Phos')\n",
    "N = length(ts)\n",
    "costfun = list()\n",
    "for(i in 1:N) {costfun[[i]] <- NORMAL_MEANVAR}\n",
    "penfun = PENFUN_BIC\n",
    "minseglen = rep(2,N)"
   ]
  },
  {
   "cell_type": "code",
   "execution_count": 27,
   "metadata": {},
   "outputs": [
    {
     "ename": "ERROR",
     "evalue": "Error in py_call_impl(callable, dots$args, dots$keywords): TypeError: 'builtin_function_or_method' object is not iterable\n\nDetailed traceback: \n  File \"<string>\", line 20, in CPT_DSF\n  File \"<string>\", line 17, in BLOAT_COUNT_OBS\n  File \"<string>\", line 7, in ALL_INDICES\n  File \"<string>\", line 7, in <listcomp>\n\n",
     "output_type": "error",
     "traceback": [
      "Error in py_call_impl(callable, dots$args, dots$keywords): TypeError: 'builtin_function_or_method' object is not iterable\n\nDetailed traceback: \n  File \"<string>\", line 20, in CPT_DSF\n  File \"<string>\", line 17, in BLOAT_COUNT_OBS\n  File \"<string>\", line 7, in ALL_INDICES\n  File \"<string>\", line 7, in <listcomp>\n\nTraceback:\n",
      "1. CPT_DSF(ts, costfun, penfun, minseglen, DP_allpenfast)",
      "2. py_call_impl(callable, dots$args, dots$keywords)"
     ]
    }
   ],
   "source": [
    "\n",
    "#hat_cpts, hat_cpts_uni, hat_lik, hat_lik_uni =\n",
    "a = CPT_DSF(ts, costfun, penfun, minseglen, DP_allpenfast)"
   ]
  },
  {
   "cell_type": "code",
   "execution_count": 17,
   "metadata": {},
   "outputs": [
    {
     "data": {
      "text/plain": [
       "<function PENFUN_BIC at 0x7f8c93609b70>"
      ]
     },
     "metadata": {},
     "output_type": "display_data"
    }
   ],
   "source": [
    "penfun"
   ]
  },
  {
   "cell_type": "code",
   "execution_count": 22,
   "metadata": {},
   "outputs": [
    {
     "data": {
      "text/plain": [
       "List (72 items)"
      ]
     },
     "metadata": {},
     "output_type": "display_data"
    }
   ],
   "source": [
    "r_to_py( ts(1:72, start=c(2009, 1), end=c(2014, 12), frequency=12))"
   ]
  },
  {
   "cell_type": "code",
   "execution_count": 23,
   "metadata": {},
   "outputs": [
    {
     "data": {
      "text/html": [
       "<table>\n",
       "<caption>A Time Series: 6 × 12</caption>\n",
       "<thead>\n",
       "\t<tr><th></th><th scope=col>Jan</th><th scope=col>Feb</th><th scope=col>Mar</th><th scope=col>Apr</th><th scope=col>May</th><th scope=col>Jun</th><th scope=col>Jul</th><th scope=col>Aug</th><th scope=col>Sep</th><th scope=col>Oct</th><th scope=col>Nov</th><th scope=col>Dec</th></tr>\n",
       "</thead>\n",
       "<tbody>\n",
       "\t<tr><th scope=row>2009</th><td> 1</td><td> 2</td><td> 3</td><td> 4</td><td> 5</td><td> 6</td><td> 7</td><td> 8</td><td> 9</td><td>10</td><td>11</td><td>12</td></tr>\n",
       "\t<tr><th scope=row>2010</th><td>13</td><td>14</td><td>15</td><td>16</td><td>17</td><td>18</td><td>19</td><td>20</td><td>21</td><td>22</td><td>23</td><td>24</td></tr>\n",
       "\t<tr><th scope=row>2011</th><td>25</td><td>26</td><td>27</td><td>28</td><td>29</td><td>30</td><td>31</td><td>32</td><td>33</td><td>34</td><td>35</td><td>36</td></tr>\n",
       "\t<tr><th scope=row>2012</th><td>37</td><td>38</td><td>39</td><td>40</td><td>41</td><td>42</td><td>43</td><td>44</td><td>45</td><td>46</td><td>47</td><td>48</td></tr>\n",
       "\t<tr><th scope=row>2013</th><td>49</td><td>50</td><td>51</td><td>52</td><td>53</td><td>54</td><td>55</td><td>56</td><td>57</td><td>58</td><td>59</td><td>60</td></tr>\n",
       "\t<tr><th scope=row>2014</th><td>61</td><td>62</td><td>63</td><td>64</td><td>65</td><td>66</td><td>67</td><td>68</td><td>69</td><td>70</td><td>71</td><td>72</td></tr>\n",
       "</tbody>\n",
       "</table>\n"
      ],
      "text/latex": [
       "A Time Series: 6 × 12\n",
       "\\begin{tabular}{r|llllllllllll}\n",
       "  & Jan & Feb & Mar & Apr & May & Jun & Jul & Aug & Sep & Oct & Nov & Dec\\\\\n",
       "\\hline\n",
       "\t2009 &  1 &  2 &  3 &  4 &  5 &  6 &  7 &  8 &  9 & 10 & 11 & 12\\\\\n",
       "\t2010 & 13 & 14 & 15 & 16 & 17 & 18 & 19 & 20 & 21 & 22 & 23 & 24\\\\\n",
       "\t2011 & 25 & 26 & 27 & 28 & 29 & 30 & 31 & 32 & 33 & 34 & 35 & 36\\\\\n",
       "\t2012 & 37 & 38 & 39 & 40 & 41 & 42 & 43 & 44 & 45 & 46 & 47 & 48\\\\\n",
       "\t2013 & 49 & 50 & 51 & 52 & 53 & 54 & 55 & 56 & 57 & 58 & 59 & 60\\\\\n",
       "\t2014 & 61 & 62 & 63 & 64 & 65 & 66 & 67 & 68 & 69 & 70 & 71 & 72\\\\\n",
       "\\end{tabular}\n"
      ],
      "text/markdown": [
       "\n",
       "A Time Series: 6 × 12\n",
       "\n",
       "| <!--/--> | Jan | Feb | Mar | Apr | May | Jun | Jul | Aug | Sep | Oct | Nov | Dec |\n",
       "|---|---|---|---|---|---|---|---|---|---|---|---|---|\n",
       "| 2009 |  1 |  2 |  3 |  4 |  5 |  6 |  7 |  8 |  9 | 10 | 11 | 12 |\n",
       "| 2010 | 13 | 14 | 15 | 16 | 17 | 18 | 19 | 20 | 21 | 22 | 23 | 24 |\n",
       "| 2011 | 25 | 26 | 27 | 28 | 29 | 30 | 31 | 32 | 33 | 34 | 35 | 36 |\n",
       "| 2012 | 37 | 38 | 39 | 40 | 41 | 42 | 43 | 44 | 45 | 46 | 47 | 48 |\n",
       "| 2013 | 49 | 50 | 51 | 52 | 53 | 54 | 55 | 56 | 57 | 58 | 59 | 60 |\n",
       "| 2014 | 61 | 62 | 63 | 64 | 65 | 66 | 67 | 68 | 69 | 70 | 71 | 72 |\n",
       "\n"
      ],
      "text/plain": [
       "     Jan Feb Mar Apr May Jun Jul Aug Sep Oct Nov Dec\n",
       "2009  1   2   3   4   5   6   7   8   9  10  11  12 \n",
       "2010 13  14  15  16  17  18  19  20  21  22  23  24 \n",
       "2011 25  26  27  28  29  30  31  32  33  34  35  36 \n",
       "2012 37  38  39  40  41  42  43  44  45  46  47  48 \n",
       "2013 49  50  51  52  53  54  55  56  57  58  59  60 \n",
       "2014 61  62  63  64  65  66  67  68  69  70  71  72 "
      ]
     },
     "metadata": {},
     "output_type": "display_data"
    }
   ],
   "source": [
    "ts(1:72, start=c(2009, 1), end=c(2014, 12), frequency=12)"
   ]
  },
  {
   "cell_type": "code",
   "execution_count": null,
   "metadata": {},
   "outputs": [],
   "source": []
  }
 ],
 "metadata": {
  "kernelspec": {
   "display_name": "R-shared",
   "language": "R",
   "name": "shared-r"
  },
  "language_info": {
   "codemirror_mode": "r",
   "file_extension": ".r",
   "mimetype": "text/x-r-source",
   "name": "R",
   "pygments_lexer": "r",
   "version": "3.6.2"
  }
 },
 "nbformat": 4,
 "nbformat_minor": 4
}
