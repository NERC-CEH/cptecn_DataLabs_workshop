{
 "cells": [
  {
   "cell_type": "code",
   "execution_count": 75,
   "metadata": {},
   "outputs": [
    {
     "name": "stderr",
     "output_type": "stream",
     "text": [
      "Parsed with column specification:\n",
      "cols(\n",
      "  IM_SPEC = \u001b[32mcol_double()\u001b[39m,\n",
      "  DESC_LATIN = \u001b[31mcol_character()\u001b[39m,\n",
      "  DESC_COMMON = \u001b[31mcol_character()\u001b[39m,\n",
      "  IM_GROUP = \u001b[31mcol_character()\u001b[39m\n",
      ")\n",
      "\n",
      "Parsed with column specification:\n",
      "cols(\n",
      "  IM_SPEC = \u001b[31mcol_character()\u001b[39m,\n",
      "  DESC_LATIN = \u001b[31mcol_character()\u001b[39m,\n",
      "  DESC_COMMON = \u001b[31mcol_character()\u001b[39m,\n",
      "  IM_GROUP = \u001b[31mcol_character()\u001b[39m\n",
      ")\n",
      "\n"
     ]
    }
   ],
   "source": [
    "setwd(\"/data/notebooks/jupyterlab-workshop\")\n",
    "source(\"R/helper.R\")\n",
    "library(dplyr)\n",
    "library(ggplot2)\n",
    "options(repr.plot.width = 27, repr.plot.height = 15)"
   ]
  },
  {
   "cell_type": "code",
   "execution_count": 76,
   "metadata": {},
   "outputs": [],
   "source": [
    "sitecodes = c(\"T08\", \"T07\")\n",
    "fieldnames = c(\"DRYTMP\", \"RAIN\")"
   ]
  },
  {
   "cell_type": "code",
   "execution_count": 77,
   "metadata": {},
   "outputs": [
    {
     "data": {
      "text/html": [
       "<table>\n",
       "<caption>A tibble: 6 × 4</caption>\n",
       "<thead>\n",
       "\t<tr><th scope=col>DATE</th><th scope=col>FIELDNAME</th><th scope=col>SITECODE</th><th scope=col>daily</th></tr>\n",
       "\t<tr><th scope=col>&lt;date&gt;</th><th scope=col>&lt;fct&gt;</th><th scope=col>&lt;fct&gt;</th><th scope=col>&lt;dbl&gt;</th></tr>\n",
       "</thead>\n",
       "<tbody>\n",
       "\t<tr><td>1991-05-28</td><td>DRYTMP</td><td>T04</td><td> 5.490000</td></tr>\n",
       "\t<tr><td>1991-05-28</td><td>NETRAD</td><td>T04</td><td> 6.555556</td></tr>\n",
       "\t<tr><td>1991-05-28</td><td>RAIN  </td><td>T04</td><td> 0.000000</td></tr>\n",
       "\t<tr><td>1991-05-28</td><td>SOLAR </td><td>T04</td><td>58.888889</td></tr>\n",
       "\t<tr><td>1991-05-28</td><td>STMP10</td><td>T04</td><td>10.022222</td></tr>\n",
       "\t<tr><td>1991-05-28</td><td>STMP30</td><td>T04</td><td> 9.155556</td></tr>\n",
       "</tbody>\n",
       "</table>\n"
      ],
      "text/latex": [
       "A tibble: 6 × 4\n",
       "\\begin{tabular}{llll}\n",
       " DATE & FIELDNAME & SITECODE & daily\\\\\n",
       " <date> & <fct> & <fct> & <dbl>\\\\\n",
       "\\hline\n",
       "\t 1991-05-28 & DRYTMP & T04 &  5.490000\\\\\n",
       "\t 1991-05-28 & NETRAD & T04 &  6.555556\\\\\n",
       "\t 1991-05-28 & RAIN   & T04 &  0.000000\\\\\n",
       "\t 1991-05-28 & SOLAR  & T04 & 58.888889\\\\\n",
       "\t 1991-05-28 & STMP10 & T04 & 10.022222\\\\\n",
       "\t 1991-05-28 & STMP30 & T04 &  9.155556\\\\\n",
       "\\end{tabular}\n"
      ],
      "text/markdown": [
       "\n",
       "A tibble: 6 × 4\n",
       "\n",
       "| DATE &lt;date&gt; | FIELDNAME &lt;fct&gt; | SITECODE &lt;fct&gt; | daily &lt;dbl&gt; |\n",
       "|---|---|---|---|\n",
       "| 1991-05-28 | DRYTMP | T04 |  5.490000 |\n",
       "| 1991-05-28 | NETRAD | T04 |  6.555556 |\n",
       "| 1991-05-28 | RAIN   | T04 |  0.000000 |\n",
       "| 1991-05-28 | SOLAR  | T04 | 58.888889 |\n",
       "| 1991-05-28 | STMP10 | T04 | 10.022222 |\n",
       "| 1991-05-28 | STMP30 | T04 |  9.155556 |\n",
       "\n"
      ],
      "text/plain": [
       "  DATE       FIELDNAME SITECODE daily    \n",
       "1 1991-05-28 DRYTMP    T04       5.490000\n",
       "2 1991-05-28 NETRAD    T04       6.555556\n",
       "3 1991-05-28 RAIN      T04       0.000000\n",
       "4 1991-05-28 SOLAR     T04      58.888889\n",
       "5 1991-05-28 STMP10    T04      10.022222\n",
       "6 1991-05-28 STMP30    T04       9.155556"
      ]
     },
     "metadata": {},
     "output_type": "display_data"
    }
   ],
   "source": [
    "head(inputDataMA)"
   ]
  },
  {
   "cell_type": "code",
   "execution_count": 78,
   "metadata": {},
   "outputs": [
    {
     "name": "stderr",
     "output_type": "stream",
     "text": [
      "Joining, by = \"DATE\"\n",
      "\n",
      "The number of unsampled days during the selected date range at this site is: 2424.\n",
      "\n",
      "The top 10 unsampled periods during the selected date range at this site is: \n",
      "\n",
      "\u001b[90m# A tibble: 10 x 4\u001b[39m\n",
      "\u001b[90m# Groups:   seq_id [10]\u001b[39m\n",
      "   seq_id STARTDATE  ENDDATE    duration\n",
      "    \u001b[3m\u001b[90m<dbl>\u001b[39m\u001b[23m \u001b[3m\u001b[90m<date>\u001b[39m\u001b[23m     \u001b[3m\u001b[90m<date>\u001b[39m\u001b[23m        \u001b[3m\u001b[90m<int>\u001b[39m\u001b[23m\n",
      "\u001b[90m 1\u001b[39m    600 2014-12-03 2015-03-12      100\n",
      "\u001b[90m 2\u001b[39m     79 2000-01-02 2000-03-09       68\n",
      "\u001b[90m 3\u001b[39m    467 2011-12-22 2012-02-23       64\n",
      "\u001b[90m 4\u001b[39m    171 2004-12-17 2005-02-17       63\n",
      "\u001b[90m 5\u001b[39m    510 2012-12-18 2013-02-14       59\n",
      "\u001b[90m 6\u001b[39m    205 2006-01-05 2006-02-26       53\n",
      "\u001b[90m 7\u001b[39m    551 2013-12-24 2014-02-06       45\n",
      "\u001b[90m 8\u001b[39m    202 2005-11-16 2005-12-20       35\n",
      "\u001b[90m 9\u001b[39m    135 2004-01-08 2004-02-10       34\n",
      "\u001b[90m10\u001b[39m    246 2007-01-19 2007-02-18       31\n",
      "\n"
     ]
    },
    {
     "name": "stdout",
     "output_type": "stream",
     "text": [
      "[1] \"dd\"\n",
      "\u001b[90m# A tibble: 18,201 x 35\u001b[39m\n",
      "\u001b[90m# Groups:   DATE [6,027]\u001b[39m\n",
      "   SITECODE LCODE FIELDNAME VALUE station DATE       FLAGID DESC_LATIN\n",
      "   \u001b[3m\u001b[90m<fct>\u001b[39m\u001b[23m    \u001b[3m\u001b[90m<int>\u001b[39m\u001b[23m \u001b[3m\u001b[90m<chr>\u001b[39m\u001b[23m     \u001b[3m\u001b[90m<int>\u001b[39m\u001b[23m \u001b[3m\u001b[90m<chr>\u001b[39m\u001b[23m   \u001b[3m\u001b[90m<date>\u001b[39m\u001b[23m      \u001b[3m\u001b[90m<int>\u001b[39m\u001b[23m \u001b[3m\u001b[90m<chr>\u001b[39m\u001b[23m     \n",
      "\u001b[90m 1\u001b[39m T08          1 XX            0 T08-1   1992-10-22     \u001b[31mNA\u001b[39m No moths …\n",
      "\u001b[90m 2\u001b[39m T08          1 635           1 T08-1   1992-10-23     \u001b[31mNA\u001b[39m Autograph…\n",
      "\u001b[90m 3\u001b[39m T08          1 XX            0 T08-1   1992-10-24     \u001b[31mNA\u001b[39m No moths …\n",
      "\u001b[90m 4\u001b[39m T08          1 XX            0 T08-1   1992-10-25     \u001b[31mNA\u001b[39m No moths …\n",
      "\u001b[90m 5\u001b[39m T08          1 XX            0 T08-1   1992-10-26     \u001b[31mNA\u001b[39m No moths …\n",
      "\u001b[90m 6\u001b[39m T08          1 XX            0 T08-1   1992-10-27     \u001b[31mNA\u001b[39m No moths …\n",
      "\u001b[90m 7\u001b[39m T08          1 XX            0 T08-1   1992-10-28     \u001b[31mNA\u001b[39m No moths …\n",
      "\u001b[90m 8\u001b[39m T08          1 XX            0 T08-1   1992-10-29     \u001b[31mNA\u001b[39m No moths …\n",
      "\u001b[90m 9\u001b[39m T08          1 XX            0 T08-1   1992-10-30     \u001b[31mNA\u001b[39m No moths …\n",
      "\u001b[90m10\u001b[39m T08          1 550           1 T08-1   1992-10-31     \u001b[31mNA\u001b[39m Brachiony…\n",
      "\u001b[90m# … with 18,191 more rows, and 27 more variables: DESC_COMMON \u001b[3m\u001b[90m<chr>\u001b[90m\u001b[23m,\u001b[39m\n",
      "\u001b[90m#   IM_GROUP \u001b[3m\u001b[90m<chr>\u001b[90m\u001b[23m, Genus \u001b[3m\u001b[90m<chr>\u001b[90m\u001b[23m, species \u001b[3m\u001b[90m<chr>\u001b[90m\u001b[23m, `COMMON NAME` \u001b[3m\u001b[90m<chr>\u001b[90m\u001b[23m,\u001b[39m\n",
      "\u001b[90m#   Family \u001b[3m\u001b[90m<chr>\u001b[90m\u001b[23m, UK_DIST \u001b[3m\u001b[90m<dbl>\u001b[90m\u001b[23m, LARVAL_PLANT \u001b[3m\u001b[90m<dbl>\u001b[90m\u001b[23m, FEED_SPEC \u001b[3m\u001b[90m<dbl>\u001b[90m\u001b[23m,\u001b[39m\n",
      "\u001b[90m#   HAB1 \u001b[3m\u001b[90m<dbl>\u001b[90m\u001b[23m, HAB2 \u001b[3m\u001b[90m<dbl>\u001b[90m\u001b[23m, HAB3 \u001b[3m\u001b[90m<dbl>\u001b[90m\u001b[23m, HAB4 \u001b[3m\u001b[90m<dbl>\u001b[90m\u001b[23m, HAB5 \u001b[3m\u001b[90m<dbl>\u001b[90m\u001b[23m, HAB6 \u001b[3m\u001b[90m<dbl>\u001b[90m\u001b[23m,\u001b[39m\n",
      "\u001b[90m#   HAB7 \u001b[3m\u001b[90m<dbl>\u001b[90m\u001b[23m, HAB8 \u001b[3m\u001b[90m<dbl>\u001b[90m\u001b[23m, HAB9 \u001b[3m\u001b[90m<dbl>\u001b[90m\u001b[23m, WINGSPAN \u001b[3m\u001b[90m<dbl>\u001b[90m\u001b[23m, SPAN_GRP \u001b[3m\u001b[90m<dbl>\u001b[90m\u001b[23m,\u001b[39m\n",
      "\u001b[90m#   OVERWINTER \u001b[3m\u001b[90m<dbl>\u001b[90m\u001b[23m, VOLT \u001b[3m\u001b[90m<dbl>\u001b[90m\u001b[23m, FLY_TIME \u001b[3m\u001b[90m<dbl>\u001b[90m\u001b[23m, LARVA_TIME1 \u001b[3m\u001b[90m<dbl>\u001b[90m\u001b[23m,\u001b[39m\n",
      "\u001b[90m#   LARVA_TIME2 \u001b[3m\u001b[90m<dbl>\u001b[90m\u001b[23m, LARVA_TIME3 \u001b[3m\u001b[90m<dbl>\u001b[90m\u001b[23m, LARVA_TIME4 \u001b[3m\u001b[90m<dbl>\u001b[90m\u001b[23m\u001b[39m\n"
     ]
    },
    {
     "name": "stderr",
     "output_type": "stream",
     "text": [
      "\u001b[90m# A tibble: 18,201 x 35\u001b[39m\n",
      "\u001b[90m# Groups:   DATE [6,027]\u001b[39m\n",
      "   SITECODE LCODE FIELDNAME VALUE station DATE       FLAGID DESC_LATIN\n",
      "   \u001b[3m\u001b[90m<fct>\u001b[39m\u001b[23m    \u001b[3m\u001b[90m<int>\u001b[39m\u001b[23m \u001b[3m\u001b[90m<chr>\u001b[39m\u001b[23m     \u001b[3m\u001b[90m<int>\u001b[39m\u001b[23m \u001b[3m\u001b[90m<chr>\u001b[39m\u001b[23m   \u001b[3m\u001b[90m<date>\u001b[39m\u001b[23m      \u001b[3m\u001b[90m<int>\u001b[39m\u001b[23m \u001b[3m\u001b[90m<chr>\u001b[39m\u001b[23m     \n",
      "\u001b[90m 1\u001b[39m T08          1 XX            0 T08-1   1992-10-22     \u001b[31mNA\u001b[39m No moths …\n",
      "\u001b[90m 2\u001b[39m T08          1 635           1 T08-1   1992-10-23     \u001b[31mNA\u001b[39m Autograph…\n",
      "\u001b[90m 3\u001b[39m T08          1 XX            0 T08-1   1992-10-24     \u001b[31mNA\u001b[39m No moths …\n",
      "\u001b[90m 4\u001b[39m T08          1 XX            0 T08-1   1992-10-25     \u001b[31mNA\u001b[39m No moths …\n",
      "\u001b[90m 5\u001b[39m T08          1 XX            0 T08-1   1992-10-26     \u001b[31mNA\u001b[39m No moths …\n",
      "\u001b[90m 6\u001b[39m T08          1 XX            0 T08-1   1992-10-27     \u001b[31mNA\u001b[39m No moths …\n",
      "\u001b[90m 7\u001b[39m T08          1 XX            0 T08-1   1992-10-28     \u001b[31mNA\u001b[39m No moths …\n",
      "\u001b[90m 8\u001b[39m T08          1 XX            0 T08-1   1992-10-29     \u001b[31mNA\u001b[39m No moths …\n",
      "\u001b[90m 9\u001b[39m T08          1 XX            0 T08-1   1992-10-30     \u001b[31mNA\u001b[39m No moths …\n",
      "\u001b[90m10\u001b[39m T08          1 550           1 T08-1   1992-10-31     \u001b[31mNA\u001b[39m Brachiony…\n",
      "\u001b[90m# … with 18,191 more rows, and 27 more variables: DESC_COMMON \u001b[3m\u001b[90m<chr>\u001b[90m\u001b[23m,\u001b[39m\n",
      "\u001b[90m#   IM_GROUP \u001b[3m\u001b[90m<chr>\u001b[90m\u001b[23m, Genus \u001b[3m\u001b[90m<chr>\u001b[90m\u001b[23m, species \u001b[3m\u001b[90m<chr>\u001b[90m\u001b[23m, `COMMON NAME` \u001b[3m\u001b[90m<chr>\u001b[90m\u001b[23m,\u001b[39m\n",
      "\u001b[90m#   Family \u001b[3m\u001b[90m<chr>\u001b[90m\u001b[23m, UK_DIST \u001b[3m\u001b[90m<dbl>\u001b[90m\u001b[23m, LARVAL_PLANT \u001b[3m\u001b[90m<dbl>\u001b[90m\u001b[23m, FEED_SPEC \u001b[3m\u001b[90m<dbl>\u001b[90m\u001b[23m,\u001b[39m\n",
      "\u001b[90m#   HAB1 \u001b[3m\u001b[90m<dbl>\u001b[90m\u001b[23m, HAB2 \u001b[3m\u001b[90m<dbl>\u001b[90m\u001b[23m, HAB3 \u001b[3m\u001b[90m<dbl>\u001b[90m\u001b[23m, HAB4 \u001b[3m\u001b[90m<dbl>\u001b[90m\u001b[23m, HAB5 \u001b[3m\u001b[90m<dbl>\u001b[90m\u001b[23m, HAB6 \u001b[3m\u001b[90m<dbl>\u001b[90m\u001b[23m,\u001b[39m\n",
      "\u001b[90m#   HAB7 \u001b[3m\u001b[90m<dbl>\u001b[90m\u001b[23m, HAB8 \u001b[3m\u001b[90m<dbl>\u001b[90m\u001b[23m, HAB9 \u001b[3m\u001b[90m<dbl>\u001b[90m\u001b[23m, WINGSPAN \u001b[3m\u001b[90m<dbl>\u001b[90m\u001b[23m, SPAN_GRP \u001b[3m\u001b[90m<dbl>\u001b[90m\u001b[23m,\u001b[39m\n",
      "\u001b[90m#   OVERWINTER \u001b[3m\u001b[90m<dbl>\u001b[90m\u001b[23m, VOLT \u001b[3m\u001b[90m<dbl>\u001b[90m\u001b[23m, FLY_TIME \u001b[3m\u001b[90m<dbl>\u001b[90m\u001b[23m, LARVA_TIME1 \u001b[3m\u001b[90m<dbl>\u001b[90m\u001b[23m,\u001b[39m\n",
      "\u001b[90m#   LARVA_TIME2 \u001b[3m\u001b[90m<dbl>\u001b[90m\u001b[23m, LARVA_TIME3 \u001b[3m\u001b[90m<dbl>\u001b[90m\u001b[23m, LARVA_TIME4 \u001b[3m\u001b[90m<dbl>\u001b[90m\u001b[23m\u001b[39m\n",
      "\n",
      "\u001b[90m# A tibble: 0 x 35\u001b[39m\n",
      "\u001b[90m# Groups:   DATE [0]\u001b[39m\n",
      "\u001b[90m# … with 35 variables: SITECODE \u001b[3m\u001b[90m<fct>\u001b[90m\u001b[23m, LCODE \u001b[3m\u001b[90m<int>\u001b[90m\u001b[23m, FIELDNAME \u001b[3m\u001b[90m<chr>\u001b[90m\u001b[23m,\u001b[39m\n",
      "\u001b[90m#   VALUE \u001b[3m\u001b[90m<int>\u001b[90m\u001b[23m, station \u001b[3m\u001b[90m<chr>\u001b[90m\u001b[23m, DATE \u001b[3m\u001b[90m<date>\u001b[90m\u001b[23m, FLAGID \u001b[3m\u001b[90m<int>\u001b[90m\u001b[23m, DESC_LATIN \u001b[3m\u001b[90m<chr>\u001b[90m\u001b[23m,\u001b[39m\n",
      "\u001b[90m#   DESC_COMMON \u001b[3m\u001b[90m<chr>\u001b[90m\u001b[23m, IM_GROUP \u001b[3m\u001b[90m<chr>\u001b[90m\u001b[23m, Genus \u001b[3m\u001b[90m<chr>\u001b[90m\u001b[23m, species \u001b[3m\u001b[90m<chr>\u001b[90m\u001b[23m, `COMMON\u001b[39m\n",
      "\u001b[90m#   NAME` \u001b[3m\u001b[90m<chr>\u001b[90m\u001b[23m, Family \u001b[3m\u001b[90m<chr>\u001b[90m\u001b[23m, UK_DIST \u001b[3m\u001b[90m<dbl>\u001b[90m\u001b[23m, LARVAL_PLANT \u001b[3m\u001b[90m<dbl>\u001b[90m\u001b[23m,\u001b[39m\n",
      "\u001b[90m#   FEED_SPEC \u001b[3m\u001b[90m<dbl>\u001b[90m\u001b[23m, HAB1 \u001b[3m\u001b[90m<dbl>\u001b[90m\u001b[23m, HAB2 \u001b[3m\u001b[90m<dbl>\u001b[90m\u001b[23m, HAB3 \u001b[3m\u001b[90m<dbl>\u001b[90m\u001b[23m, HAB4 \u001b[3m\u001b[90m<dbl>\u001b[90m\u001b[23m,\u001b[39m\n",
      "\u001b[90m#   HAB5 \u001b[3m\u001b[90m<dbl>\u001b[90m\u001b[23m, HAB6 \u001b[3m\u001b[90m<dbl>\u001b[90m\u001b[23m, HAB7 \u001b[3m\u001b[90m<dbl>\u001b[90m\u001b[23m, HAB8 \u001b[3m\u001b[90m<dbl>\u001b[90m\u001b[23m, HAB9 \u001b[3m\u001b[90m<dbl>\u001b[90m\u001b[23m, WINGSPAN \u001b[3m\u001b[90m<dbl>\u001b[90m\u001b[23m,\u001b[39m\n",
      "\u001b[90m#   SPAN_GRP \u001b[3m\u001b[90m<dbl>\u001b[90m\u001b[23m, OVERWINTER \u001b[3m\u001b[90m<dbl>\u001b[90m\u001b[23m, VOLT \u001b[3m\u001b[90m<dbl>\u001b[90m\u001b[23m, FLY_TIME \u001b[3m\u001b[90m<dbl>\u001b[90m\u001b[23m,\u001b[39m\n",
      "\u001b[90m#   LARVA_TIME1 \u001b[3m\u001b[90m<dbl>\u001b[90m\u001b[23m, LARVA_TIME2 \u001b[3m\u001b[90m<dbl>\u001b[90m\u001b[23m, LARVA_TIME3 \u001b[3m\u001b[90m<dbl>\u001b[90m\u001b[23m, LARVA_TIME4 \u001b[3m\u001b[90m<dbl>\u001b[90m\u001b[23m\u001b[39m\n",
      "\n",
      "\u001b[90m# A tibble: 18,201 x 35\u001b[39m\n",
      "\u001b[90m# Groups:   DATE [6,027]\u001b[39m\n",
      "   SITECODE LCODE FIELDNAME VALUE station DATE       FLAGID DESC_LATIN\n",
      "   \u001b[3m\u001b[90m<fct>\u001b[39m\u001b[23m    \u001b[3m\u001b[90m<int>\u001b[39m\u001b[23m \u001b[3m\u001b[90m<chr>\u001b[39m\u001b[23m     \u001b[3m\u001b[90m<int>\u001b[39m\u001b[23m \u001b[3m\u001b[90m<chr>\u001b[39m\u001b[23m   \u001b[3m\u001b[90m<date>\u001b[39m\u001b[23m      \u001b[3m\u001b[90m<int>\u001b[39m\u001b[23m \u001b[3m\u001b[90m<chr>\u001b[39m\u001b[23m     \n",
      "\u001b[90m 1\u001b[39m T08          1 XX            0 T08-1   1992-10-22     \u001b[31mNA\u001b[39m No moths …\n",
      "\u001b[90m 2\u001b[39m T08          1 635           1 T08-1   1992-10-23     \u001b[31mNA\u001b[39m Autograph…\n",
      "\u001b[90m 3\u001b[39m T08          1 XX            0 T08-1   1992-10-24     \u001b[31mNA\u001b[39m No moths …\n",
      "\u001b[90m 4\u001b[39m T08          1 XX            0 T08-1   1992-10-25     \u001b[31mNA\u001b[39m No moths …\n",
      "\u001b[90m 5\u001b[39m T08          1 XX            0 T08-1   1992-10-26     \u001b[31mNA\u001b[39m No moths …\n",
      "\u001b[90m 6\u001b[39m T08          1 XX            0 T08-1   1992-10-27     \u001b[31mNA\u001b[39m No moths …\n",
      "\u001b[90m 7\u001b[39m T08          1 XX            0 T08-1   1992-10-28     \u001b[31mNA\u001b[39m No moths …\n",
      "\u001b[90m 8\u001b[39m T08          1 XX            0 T08-1   1992-10-29     \u001b[31mNA\u001b[39m No moths …\n",
      "\u001b[90m 9\u001b[39m T08          1 XX            0 T08-1   1992-10-30     \u001b[31mNA\u001b[39m No moths …\n",
      "\u001b[90m10\u001b[39m T08          1 550           1 T08-1   1992-10-31     \u001b[31mNA\u001b[39m Brachiony…\n",
      "\u001b[90m# … with 18,191 more rows, and 27 more variables: DESC_COMMON \u001b[3m\u001b[90m<chr>\u001b[90m\u001b[23m,\u001b[39m\n",
      "\u001b[90m#   IM_GROUP \u001b[3m\u001b[90m<chr>\u001b[90m\u001b[23m, Genus \u001b[3m\u001b[90m<chr>\u001b[90m\u001b[23m, species \u001b[3m\u001b[90m<chr>\u001b[90m\u001b[23m, `COMMON NAME` \u001b[3m\u001b[90m<chr>\u001b[90m\u001b[23m,\u001b[39m\n",
      "\u001b[90m#   Family \u001b[3m\u001b[90m<chr>\u001b[90m\u001b[23m, UK_DIST \u001b[3m\u001b[90m<dbl>\u001b[90m\u001b[23m, LARVAL_PLANT \u001b[3m\u001b[90m<dbl>\u001b[90m\u001b[23m, FEED_SPEC \u001b[3m\u001b[90m<dbl>\u001b[90m\u001b[23m,\u001b[39m\n",
      "\u001b[90m#   HAB1 \u001b[3m\u001b[90m<dbl>\u001b[90m\u001b[23m, HAB2 \u001b[3m\u001b[90m<dbl>\u001b[90m\u001b[23m, HAB3 \u001b[3m\u001b[90m<dbl>\u001b[90m\u001b[23m, HAB4 \u001b[3m\u001b[90m<dbl>\u001b[90m\u001b[23m, HAB5 \u001b[3m\u001b[90m<dbl>\u001b[90m\u001b[23m, HAB6 \u001b[3m\u001b[90m<dbl>\u001b[90m\u001b[23m,\u001b[39m\n",
      "\u001b[90m#   HAB7 \u001b[3m\u001b[90m<dbl>\u001b[90m\u001b[23m, HAB8 \u001b[3m\u001b[90m<dbl>\u001b[90m\u001b[23m, HAB9 \u001b[3m\u001b[90m<dbl>\u001b[90m\u001b[23m, WINGSPAN \u001b[3m\u001b[90m<dbl>\u001b[90m\u001b[23m, SPAN_GRP \u001b[3m\u001b[90m<dbl>\u001b[90m\u001b[23m,\u001b[39m\n",
      "\u001b[90m#   OVERWINTER \u001b[3m\u001b[90m<dbl>\u001b[90m\u001b[23m, VOLT \u001b[3m\u001b[90m<dbl>\u001b[90m\u001b[23m, FLY_TIME \u001b[3m\u001b[90m<dbl>\u001b[90m\u001b[23m, LARVA_TIME1 \u001b[3m\u001b[90m<dbl>\u001b[90m\u001b[23m,\u001b[39m\n",
      "\u001b[90m#   LARVA_TIME2 \u001b[3m\u001b[90m<dbl>\u001b[90m\u001b[23m, LARVA_TIME3 \u001b[3m\u001b[90m<dbl>\u001b[90m\u001b[23m, LARVA_TIME4 \u001b[3m\u001b[90m<dbl>\u001b[90m\u001b[23m\u001b[39m\n",
      "\n",
      "\u001b[90m# A tibble: 10 x 7\u001b[39m\n",
      "\u001b[90m# Groups:   seq_id [10]\u001b[39m\n",
      "   DATE       VALUE seq_id STARTDATE  ENDDATE    duration next_meas\n",
      "   \u001b[3m\u001b[90m<date>\u001b[39m\u001b[23m     \u001b[3m\u001b[90m<int>\u001b[39m\u001b[23m  \u001b[3m\u001b[90m<dbl>\u001b[39m\u001b[23m \u001b[3m\u001b[90m<date>\u001b[39m\u001b[23m     \u001b[3m\u001b[90m<date>\u001b[39m\u001b[23m        \u001b[3m\u001b[90m<int>\u001b[39m\u001b[23m     \u001b[3m\u001b[90m<dbl>\u001b[39m\u001b[23m\n",
      "\u001b[90m 1\u001b[39m 1992-11-15    \u001b[31mNA\u001b[39m      1 1992-11-15 1992-11-15        1         1\n",
      "\u001b[90m 2\u001b[39m 1993-03-29    \u001b[31mNA\u001b[39m      2 1993-03-29 1993-03-29        1         1\n",
      "\u001b[90m 3\u001b[39m 1993-05-06    \u001b[31mNA\u001b[39m      3 1993-05-06 1993-05-06        1         1\n",
      "\u001b[90m 4\u001b[39m 1993-05-08    \u001b[31mNA\u001b[39m      4 1993-05-08 1993-05-08        1         1\n",
      "\u001b[90m 5\u001b[39m 1993-05-22    \u001b[31mNA\u001b[39m      5 1993-05-22 1993-05-22        1         1\n",
      "\u001b[90m 6\u001b[39m 1993-05-24    \u001b[31mNA\u001b[39m      6 1993-05-24 1993-05-24        1         1\n",
      "\u001b[90m 7\u001b[39m 1993-05-27    \u001b[31mNA\u001b[39m      7 1993-05-27 1993-05-27        1         1\n",
      "\u001b[90m 8\u001b[39m 1993-06-04    \u001b[31mNA\u001b[39m      8 1993-06-04 1993-06-04        1         1\n",
      "\u001b[90m 9\u001b[39m 1993-06-19    \u001b[31mNA\u001b[39m      9 1993-06-19 1993-06-19        1         1\n",
      "\u001b[90m10\u001b[39m 1993-07-31    \u001b[31mNA\u001b[39m     10 1993-07-31 1993-07-31        1         1\n",
      "\n",
      "Warning message:\n",
      "“Unknown or uninitialised column: `DATETIME`.”\n"
     ]
    },
    {
     "ename": "ERROR",
     "evalue": "Error in as.Date.default(dd$DATETIME): do not know how to convert 'dd$DATETIME' to class “Date”\n",
     "output_type": "error",
     "traceback": [
      "Error in as.Date.default(dd$DATETIME): do not know how to convert 'dd$DATETIME' to class “Date”\nTraceback:\n",
      "1. inputData(list(dataset = \"moth\", site = \"T08\", daterange = c(\"1950-01-01\", \n .     \"2021-01-01\"), avg_missing_data = TRUE, plotPredOpt = NA))",
      "2. as.Date(dd$DATETIME)",
      "3. as.Date.default(dd$DATETIME)",
      "4. stop(gettextf(\"do not know how to convert '%s' to class %s\", \n .     deparse(substitute(x)), dQuote(\"Date\")), domain = NA)"
     ]
    }
   ],
   "source": [
    "#select_weather <- inputDataMA %>% \n",
    "#    dplyr::filter(SITECODE %in% sitecodes, FIELDNAME %in% fieldnames) \n",
    "\n",
    "#data_moth <- multi_site_analysis(sites = c(\"T08\", \"T09\"),#, \"T06\"),\n",
    "#                            dataset = \"moth\", \n",
    "#                            daterange = c(\"1950-01-01\",\"2021-01-01\"),\n",
    "#                            avg_missing_data = TRUE, \n",
    "#                            plotPredOpt = NA)\n",
    "inputData(\n",
    "            list(dataset = \"moth\",\n",
    "                 site = \"T08\", \n",
    "                 daterange = c(\"1950-01-01\",\"2021-01-01\"),\n",
    "                 avg_missing_data = TRUE,\n",
    "                 plotPredOpt = NA  # either groups (G,M,N,O) or species (`list_interesting_moth %>% distinct(DESC_COMMON)`)\n",
    "                )) \n",
    "\n",
    "\n",
    "#print( select_weather )\n",
    "#select_weather %>%\n",
    "#    ggplot2::ggplot(aes(x=DATE, y=daily, colour=FIELDNAME)) + \n",
    "#    geom_point() +\n",
    "#    facet_grid(cols=vars(SITECODE), rows=vars(FIELDNAME), scales=\"free_y\")"
   ]
  },
  {
   "cell_type": "code",
   "execution_count": null,
   "metadata": {},
   "outputs": [],
   "source": [
    "head( inputDataMA )"
   ]
  },
  {
   "cell_type": "code",
   "execution_count": null,
   "metadata": {},
   "outputs": [],
   "source": [
    "tmp <- read.csv(\"/data/ecn/ECN_IM1.csv\")\n",
    "head( tmp )\n",
    "#( mindate_moth <- min(tmp$SDATE) )\n",
    "#( maxdate_moth <- min(tmp$SDATE) )"
   ]
  },
  {
   "cell_type": "code",
   "execution_count": null,
   "metadata": {},
   "outputs": [],
   "source": []
  }
 ],
 "metadata": {
  "kernelspec": {
   "display_name": "R-shared",
   "language": "R",
   "name": "shared-r"
  },
  "language_info": {
   "codemirror_mode": "r",
   "file_extension": ".r",
   "mimetype": "text/x-r-source",
   "name": "R",
   "pygments_lexer": "r",
   "version": "3.6.3"
  }
 },
 "nbformat": 4,
 "nbformat_minor": 4
}
